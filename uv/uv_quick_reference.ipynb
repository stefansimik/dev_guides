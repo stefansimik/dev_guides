{
 "cells": [
  {
   "metadata": {},
   "cell_type": "raw",
   "source": [
    "---\n",
    "title: \"\"\n",
    "\n",
    "execute:\n",
    "  echo: true\n",
    "\n",
    "format:\n",
    "  html:\n",
    "    code-copy: true\n",
    "    code-fold: false\n",
    "    code-overflow: scroll\n",
    "    smooth-scroll: true\n",
    "    grid:\n",
    "      body-width: 940px\n",
    "      margin-width: 300px\n",
    "    page-layout: article\n",
    "    embed-resources: true\n",
    "    resource-path: [\"img\"]\n",
    "    output-ext: \"html\"\n",
    "    toc: true\n",
    "    toc-title: \"Obsah\"\n",
    "    toc-depth: 3\n",
    "    toc-expand: 2\n",
    "    toc-location: right\n",
    "    number-sections: true\n",
    "    number-depth: 4\n",
    "\n",
    "jupyter: python3\n",
    "---"
   ],
   "id": "b4d86efd8d171cf7"
  },
  {
   "cell_type": "markdown",
   "id": "2988d68b-db70-4c0e-b98f-db2ebc39006b",
   "metadata": {},
   "source": "# `uv` quick reference"
  },
  {
   "cell_type": "markdown",
   "id": "52d38a7f-5948-482a-8153-f4202e524a36",
   "metadata": {},
   "source": [
    "`uv` is an extremely fast Python package and project manager, written in Rust.\n",
    "\n",
    "* Official docs: [https://docs.astral.sh/uv/](https://docs.astral.sh/uv/)"
   ]
  },
  {
   "cell_type": "markdown",
   "id": "c93a9c30-52ec-49e7-88e2-d83864bffde0",
   "metadata": {},
   "source": [
    "# Configuration\n",
    "\n",
    "uv will search for these files in the current directory or in the nearest parent directory.\n",
    "\n",
    "* `pyproject.toml`\n",
    "*  `uv.toml`\n",
    "\n",
    "If both files are found, then  `uv.toml` has priority and `pyproject.toml` is ignored.\n",
    "\n"
   ]
  },
  {
   "cell_type": "markdown",
   "id": "9a76b40a-1987-4fd6-8750-8d5534901277",
   "metadata": {},
   "source": [
    "# Installation\n",
    "\n",
    "## Install `uv`\n",
    "\n",
    "* Quick install command:\n",
    "    * MacOS / Linux:\n",
    "        * `curl -LsSf https://astral.sh/uv/install.sh | sh`\n",
    "    * Windows:\n",
    "        * `powershell -c \"irm https://astral.sh/uv/install.ps1 | more\"`\n",
    "* Full installation guide:\n",
    "    * [https://docs.astral.sh/uv/getting-started/installation/](https://docs.astral.sh/uv/getting-started/installation/)"
   ]
  },
  {
   "cell_type": "markdown",
   "id": "3d250789-8e9b-435c-8fd8-e73bdf1c864f",
   "metadata": {},
   "source": [
    "## Check version\n",
    "\n",
    "* `uv version` - check version of installed `uv`"
   ]
  },
  {
   "cell_type": "markdown",
   "id": "66e9b668-c771-4747-9a76-ec84fe135fb8",
   "metadata": {},
   "source": [
    "# Managing Python\n",
    "\n",
    "Detailed docs: [https://docs.astral.sh/uv/guides/install-python/](https://docs.astral.sh/uv/guides/install-python/)\n",
    "\n",
    "**FAQ**\n",
    "\n",
    "* **Do I need to install Python separately if I use `uv`?**\n",
    "    * No, not necessarily. If Python is already installed on your system, `uv` will detect and use it without configuration. However, `uv` can also install and manage Python versions for you.\n",
    "* **Why does uv install its own Python when my project already has Python in `.env`?**\n",
    "    * There are two different Python installations involved:\n",
    "        1. **Base Python** (`uv python install <version>`)\n",
    "           - Serves as a template for creating project environments\n",
    "           - Contains all core Python components needed to create virtual environments\n",
    "        2. **Project Environment** (`.env`)\n",
    "           - A lightweight setup that mostly links back to this base installation\n",
    "           - Does not copy everything\n",
    "* **Is the .env folder a full copy of Python?**\n",
    "    * No. The project's `.env` folder is lightweight and uses symlinks to reference the base Python installation. It only contains:\n",
    "        - Project-specific packages\n",
    "        - Minimal configuration\n",
    "        - Links to the base Python installation\n",
    "* **Can I use Python installed by uv directly from my OS?**\n",
    "    * No. Python versions installed by `uv` are:\n",
    "        - Managed in uv's own directory\n",
    "        - Only accessible through `uv` commands\n",
    "        - Not available as system-wide Python installations\n",
    "* **Why not download Python separately for each project?**\n",
    "    * Having a single base installation is more efficient because it:    \n",
    "        - Avoids downloading and setting up full Python repeatedly\n",
    "        - Prevents duplicating hundreds of megabytes of core files\n",
    "        - Maintains consistency in core Python components across projects"
   ]
  },
  {
   "cell_type": "markdown",
   "id": "374a8534-cfdd-4fa0-b9e0-3eafafdee9cf",
   "metadata": {},
   "source": [
    "## Available Python versions\n",
    "\n",
    "* `uv python list`\n",
    "    * Shows Python versions available through uv, including:\n",
    "        1. **Already installed versions:**\n",
    "            * Lists Python versions installed by uv in its managed directory\n",
    "            * Shows their exact installation paths\n",
    "            * Indicates which version is currently active (if any)\n",
    "        2. **Available for installation:**\n",
    "            * Shows all Python versions that can be installed via uv\n",
    "            * Includes release date and status (stable/beta/alpha)\n",
    "            * Lists architecture-specific builds available\n",
    "    * Search locations:\n",
    "        * Primary: `~/.local/share/uv/python/` (Unix) or `%LOCALAPPDATA%/uv/python/` (Windows)\n",
    "        * Fetches available version information from Python's official release index\n",
    "    * Useful for:\n",
    "        * Checking which Python versions are already installed\n",
    "        * Finding new versions available for installation\n",
    "        * Managing multiple Python versions in your development environment"
   ]
  },
  {
   "cell_type": "markdown",
   "id": "db5e4732-76e4-40e6-a421-35215b81fb83",
   "metadata": {},
   "source": [
    "## Install Python version\n",
    "\n",
    "* `uv python install 3.12`\n",
    "    * Installs a specific Python version for use with uv projects\n",
    "    * Installation process:\n",
    "        1. Downloads the official Python build for your OS/architecture\n",
    "        2. Verifies the download integrity\n",
    "        3. Installs into uv's managed directory:\n",
    "            * Unix/MacOS: `~/.local/share/uv/python/`\n",
    "            * Windows: `%LOCALAPPDATA%/uv/python/`\n",
    "    * Installation options:\n",
    "        * `uv python install 3.12` - installs latest 3.12.x release\n",
    "        * `uv python install 3.12.1` - installs exact version\n",
    "        * `uv python install --list 3.12` - shows available 3.12.x versions\n",
    "        * `uv python install --reinstall 3.12` - forces reinstallation\n",
    "    * What gets installed:\n",
    "        * Core Python interpreter\n",
    "        * Standard library\n",
    "        * pip (isolated within uv's environment)\n",
    "        * Basic tools (idle, venv, etc.)\n",
    "    * Post-installation:\n",
    "        * The installed Python is only managed by uv\n",
    "        * Not available directly from system PATH\n",
    "        * Used as a template for creating virtual environments\n",
    "        * Can be referenced in project's `.python-version` file"
   ]
  },
  {
   "cell_type": "markdown",
   "id": "ac9fb1fd-e9ea-4349-bfc6-1e06712c5da1",
   "metadata": {},
   "source": [
    "## Find used Python\n",
    "\n",
    "* `uv python find`\n",
    "    * Locates Python installations that uv can use, searching in this order:\n",
    "        1. The project's `.python-version` file (if it exists)\n",
    "        2. Python versions installed by uv (in `~/.local/share/uv/python/` on Unix-like systems)\n",
    "        3. System-wide Python installations (in PATH)\n",
    "        4. Other common Python installation locations:\n",
    "            * `/usr/bin/python*`\n",
    "            * `/usr/local/bin/python*`\n",
    "            * Windows: Python installations in the Registry\n",
    "            * macOS: Framework installations\n",
    "    * Returns information about the first valid Python installation found\n",
    "    * Useful for:\n",
    "        * Debugging which Python uv would use for a project\n",
    "        * Verifying Python installation paths\n",
    "        * Checking if uv can find your preferred Python version"
   ]
  },
  {
   "cell_type": "markdown",
   "id": "2f4c36b0-8126-42b2-9051-34283569b57f",
   "metadata": {},
   "source": [
    "## Uninstall Python version\n",
    "\n",
    "* `uv python uninstall 3.12`"
   ]
  },
  {
   "cell_type": "markdown",
   "id": "2fa52eca-d3a2-49f7-a72a-67434ebb2271",
   "metadata": {},
   "source": [
    "## Pin Python version\n",
    "\n",
    "* `uv python pin 3.12`\n",
    "    * Set specified version of Python the current project = folder.\n",
    "    * This creates a `.python-version` file in your current directory.\n",
    "        * This file acts like a bookmark that tells uv exactly which Python version should be used for this project."
   ]
  },
  {
   "cell_type": "markdown",
   "id": "afd4b878-7d7f-4360-9f71-d1fdbed8ed1c",
   "metadata": {},
   "source": [
    "# Initialize new project\n",
    "\n",
    "Detailed docs: https://docs.astral.sh/uv/guides/projects/"
   ]
  },
  {
   "cell_type": "markdown",
   "id": "0b0d20c9-409e-4faa-b349-19b2c1333831",
   "metadata": {},
   "source": [
    "1. `cd` into project folder\n",
    "2. `uv init` - initialize project setup using `uv`\n",
    "    * This command creates files:\n",
    "        * `.python-version` - pinned python version for this project (folder)\n",
    "        * `README.md` - introductory info about project\n",
    "        * `hello.py` - first python demo file\n",
    "        * `pyproject.toml` - project configuration including **base** dependencies\n",
    "        * `uv.lock` - **complete** dependencies to create exact reproducible environments\n",
    "            * It is human-readable TOML file but is managed by uv and should not be edited manually.\n",
    "        * `.git` - initialized git repo\n",
    "        * `.gitignore` - list of ignored files for Git"
   ]
  },
  {
   "cell_type": "markdown",
   "id": "c37d2504-d07e-41b9-8378-ef5760ce65ec",
   "metadata": {},
   "source": [
    "# Virtual Environment Management\n",
    "\n",
    "## Quick Examples\n",
    "\n",
    "```bash\n",
    "# Create virtual environment in .venv folder (most common)\n",
    "uv venv\n",
    "\n",
    "# Create virtual environment in a different folder\n",
    "uv venv my_project_env\n",
    "\n",
    "# Create environment using Python 3.11\n",
    "uv venv --python=3.11 .venv\n",
    "\n",
    "# Delete and recreate existing environment\n",
    "uv venv --reset .venv\n",
    "```\n",
    "\n",
    "## Common Options\n",
    "\n",
    "- `--python=3.11` - Choose which Python version to use\n",
    "- `--reset` - Start fresh by removing old environment first\n",
    "- `--quiet` - Show less output in terminal\n",
    "- `--system-site-packages` - Allow using packages installed on your computer\n",
    "\n",
    "## What Happens Under the Hood\n",
    "\n",
    "When you run `uv venv`, these steps happen automatically:\n",
    "\n",
    "1. **Picks a Location**\n",
    "   - Uses `.venv` folder if you don't specify another\n",
    "   - Creates new folder if it doesn't exist\n",
    "   - Cleans up old environment if you use `--reset`\n",
    "\n",
    "2. **Chooses Python Version**\n",
    "   Looks for Python in this order:\n",
    "   1. Version you specified with `--python`\n",
    "   2. Version from your project's `pyproject.toml` file\n",
    "   3. Default Python on your computer\n",
    "\n",
    "3. **Sets Up Environment**\n",
    "   - Creates a lightweight environment\n",
    "   - Links to existing Python installation (saves space)\n",
    "   - Sets up package management tools\n",
    "\n",
    "## Structure\n",
    "\n",
    "Your virtual environment will have:\n",
    "- Python program\n",
    "- Tools for installing packages\n",
    "- A separate space for project packages\n",
    "- Scripts to activate the environment\n",
    "\n",
    "This setup keeps your project's packages separate from other projects, preventing conflicts."
   ]
  },
  {
   "cell_type": "markdown",
   "id": "5f77a363-a7d8-4efb-9272-531859672f17",
   "metadata": {},
   "source": [
    "# Shell Integration\n",
    "\n",
    "Instead of typing the full `source .venv/bin/activate` command each time, you can set up uv's shell integration.\n",
    "\n",
    "## Setup\n",
    "\n",
    "Run once:\n",
    "```bash\n",
    "uv venv add-to-path\n",
    "```\n",
    "\n",
    "## Usage\n",
    "\n",
    "After setup, activate any project's virtual environment by running:\n",
    "\n",
    "```bash\n",
    ".     # yes, only type dot\n",
    "```\n",
    "or \n",
    "\n",
    "```bash\n",
    "source .\n",
    "```\n",
    "\n",
    "## How It Works\n",
    "\n",
    "The `uv venv add-to-path` command modifies your shell configuration:\n",
    "\n",
    "1. Shell Configuration\n",
    "    - Modifies your `.bashrc` or `.zshrc`\n",
    "    - Adds custom function for virtual environment detection\n",
    "2. Activation Process\n",
    "- When you run `.` or `source .`, it:\n",
    "  - Looks for virtual environment in current directory\n",
    "  - Activates it if found\n",
    "  - Falls back to normal source behavior if not found\n",
    "\n",
    "Here's what gets added to your shell configuration:\n",
    "```bash\n",
    "# Added to your shell configuration\n",
    "_uv_venv_source() {\n",
    "    if [ \"$1\" = \".\" ]; then\n",
    "        if [ -f \".venv/bin/activate\" ]; then\n",
    "            source \".venv/bin/activate\"\n",
    "            return\n",
    "        fi\n",
    "    fi\n",
    "    builtin source \"$@\"\n",
    "}\n",
    "alias .='_uv_venv_source .'\n",
    "```\n",
    "\n",
    "## Benefits\n",
    "- ✓ Simple `.` command works in any project\n",
    "- ✓ Automatic virtual environment detection\n",
    "- ✓ Works with bash and zsh\n",
    "- ✓ Falls back to normal behavior when no environment exists"
   ]
  },
  {
   "cell_type": "markdown",
   "id": "baba26be-b4a8-4337-b099-eaae8f73e4a5",
   "metadata": {},
   "source": [
    "# Manage dependencies\n",
    "\n",
    "`uv` uses python builtin env management library `venv`.\n",
    "\n",
    "* That means `.venv` folder contains your project's virtual environment\n",
    "* This is where uv will install your project's dependencies."
   ]
  },
  {
   "cell_type": "markdown",
   "id": "7b5d5f65-a80a-4fc5-923d-e62031c63823",
   "metadata": {},
   "source": [
    "## Add dependencies\n",
    "\n",
    "* `uv add requests`\n",
    "    * adds **latest** compatible version of package: `requests` to the project\n",
    "    * What happend under the hood:\n",
    "        1. Updates `pyproject.toml` with new dependency\n",
    "        2. Automatically regenerates `uv.lock` with exact versions\n",
    "        3. Installs the package and its dependencies into your virtual environment\n",
    "        4. Maintains compatibility with existing dependencies\n",
    "* `uv add 'requests==2.31.0'`\n",
    "    * adds **specific** version of package: `requests`\n",
    "    * Same workflow as above, but pins exact version\n",
    "\n",
    "Common options:\n",
    "\n",
    "* `uv add requests flask` - add multiple packages at once\n",
    "* `uv add 'requests>=2.31.0'` - add with version constraint\n",
    "* `uv add requests --dev` - add as development dependency\n",
    "\n",
    "What happens behind the scenes:\n",
    "\n",
    "1. **Config Updates:**\n",
    "    * Adds dependency to `pyproject.toml`\n",
    "    * Updates dependency specification (version, extras, etc.)\n",
    "    * For dev dependencies, adds to `[project.optional-dependencies]`\n",
    "2. **Lock File Management:**\n",
    "    * Automatically runs equivalent of `uv lock`\n",
    "    * Resolves all dependencies (direct and indirect)\n",
    "    * Updates `uv.lock` with exact versions\n",
    "3. **Environment Sync:**\n",
    "    * Automatically runs equivalent of `uv sync`\n",
    "    * Installs new packages in virtual environment\n",
    "    * Updates existing packages if needed\n",
    "4. **Verification:**\n",
    "    * Checks compatibility with existing dependencies\n",
    "    * Validates version constraints\n",
    "    * Ensures reproducible builds"
   ]
  },
  {
   "cell_type": "markdown",
   "id": "ceeb0b90-ae63-4c78-b6c3-d3e1d2164672",
   "metadata": {},
   "source": [
    "## Update dependencies\n",
    "\n",
    "* `uv lock --upgrade`\n",
    "    * upgrades all packages in `uv.lock` file\n",
    "* `uv lock --upgrade-package requests`\n",
    "    * tries to update the specified package to the latest compatible version, while keeping the rest of the `uv.lock` file intact "
   ]
  },
  {
   "cell_type": "markdown",
   "id": "da6e8abf-0d7a-4bbb-84ba-f4cc1881a51a",
   "metadata": {},
   "source": [
    "## Remove dependencies\n",
    "\n",
    "* `uv remove requests`\n",
    "    * removes package: `requests`"
   ]
  },
  {
   "cell_type": "markdown",
   "id": "4aeed2a4-948f-47a0-993d-58de891de203",
   "metadata": {},
   "source": [
    "# Run"
   ]
  },
  {
   "cell_type": "markdown",
   "id": "eddb3601-e764-462c-8f51-c95e5209664e",
   "metadata": {},
   "source": [
    "## Python script\n",
    "\n",
    "* `uv run example.py`\n",
    "    * Runs Python file `example.py` in the project's virtual environment\n",
    "    * Ensures all dependencies are available before execution\n",
    "    * Handles environment activation automatically\n",
    "\n",
    "**What happens when you run this command:**\n",
    "\n",
    "1. **Environment Check & Setup:**\n",
    "    * Verifies if virtual environment exists\n",
    "    * Creates it if missing (equivalent to `python -m venv .venv`)\n",
    "    * Uses Python version from `.python-version` if available\n",
    "2. **Dependency Management:**\n",
    "    * Checks if environment matches `pyproject.toml` and `uv.lock`\n",
    "    * Installs or updates missing/outdated packages\n",
    "    * Ensures all dependencies are satisfied\n",
    "3. **Environment Activation:**\n",
    "    * Automatically activates the virtual environment\n",
    "    * Sets up proper Python path and environment variables\n",
    "    * No manual `source`/`activate` needed\n",
    "4. **Script Execution:**\n",
    "    * Runs the specified Python script\n",
    "    * Passes any additional arguments to the script\n",
    "    * Maintains proper environment context\n",
    "\n",
    "**Common Options:**\n",
    "* `uv run example.py --arg1 value1` - pass arguments to script\n",
    "* `uv run -m pytest` - run a module (like pytest)\n",
    "* `uv run --env-file .env example.py` - load environment variables\n",
    "* `uv run --python 3.11 example.py` - specify Python version\n",
    "\n",
    "**Equivalent Manual Steps:**\n",
    "\n",
    "| Command | Description |\n",
    "|:--------|:------------|\n",
    "| `uv sync` | Synchronizes python environment with `pyproject.toml` and `uv.lock` configs |\n",
    "| `source .venv/Scripts/activate` (Unix) or `.venv\\Scripts\\activate` (Windows) | Activates virtual environment |\n",
    "| `python example.py` | Run python script |\n",
    "* Consistent execution environment"
   ]
  },
  {
   "cell_type": "markdown",
   "id": "8cc47361-0e36-4d04-9c76-1b1b5691108f",
   "metadata": {},
   "source": [
    "# Tools\n",
    "\n",
    "Detailed docs: https://docs.astral.sh/uv/guides/tools/\n",
    "\n",
    "* Many Python packages provide applications that can be used as tools.\n",
    "* uv has specialized support for easily invoking and installing tools."
   ]
  },
  {
   "cell_type": "markdown",
   "id": "b1c5dcdd-5d81-4ca9-b576-fc99a7ae5ade",
   "metadata": {},
   "source": [
    "## Run tool\n",
    "\n",
    "* `uv tool run ruff`\n",
    "* `uvx ruff` - preferred shortened variant (`uvx` is a convenient alias for `uv tool run`)\n",
    "\n",
    "This is advanced version, that allow specify exact version of python package containing tool:\n",
    "\n",
    "* `uvx ruff@latest check` - latest version of ruff\n",
    "* `uvx ruff@0.3.0 check` - specific version ruff_v0.3.0"
   ]
  },
  {
   "cell_type": "markdown",
   "id": "7ada9cc5-afba-4600-b04b-553cb65ee76b",
   "metadata": {},
   "source": [
    "## Install tool\n",
    "\n",
    "If a tool is used often, it is useful to install it to a persistent environment and add it to the PATH instead of invoking uvx repeatedly."
   ]
  },
  {
   "cell_type": "markdown",
   "id": "2098570a-4e4f-48da-ba4f-b75007936a17",
   "metadata": {},
   "source": [
    "* `uv tool install ruff`\n",
    "    *  Installs latest version of tool `ruff`.\n",
    "    *  This allow running tool `ruff`, but it is not installed package, that could be imported in python.\n",
    "* `uv tool install ruff>=0.4`\n",
    "    * Installs specific version of tool `ruff`"
   ]
  },
  {
   "cell_type": "markdown",
   "id": "8a89b509-07b2-4f21-a3c5-abcffc063e7b",
   "metadata": {},
   "source": [
    "## Uninstall tool\n",
    "\n",
    "* `uv tool uninstall ruff` - uninstall a tool ruff"
   ]
  },
  {
   "cell_type": "markdown",
   "id": "01f969cc-4704-4725-81f1-4fecaf007cf7",
   "metadata": {},
   "source": [
    "## Upgrade tool"
   ]
  },
  {
   "cell_type": "markdown",
   "id": "3c147df4-8713-4808-92be-4d3b769352d4",
   "metadata": {},
   "source": [
    "* `uv tool upgrade ruff` - upgrades tool ruff to latest version\n",
    "* `uv tool upgrade --all` - upgrades all tools to latest version"
   ]
  },
  {
   "cell_type": "markdown",
   "id": "2c6513ea-1705-474a-a2b0-146f80b2cade",
   "metadata": {},
   "source": [
    "## See all tools\n",
    "\n",
    "* `uv tool list`"
   ]
  },
  {
   "cell_type": "markdown",
   "id": "63839bfd-7276-4143-acfe-816752becfc8",
   "metadata": {},
   "source": [
    "## Register tools to shell\n",
    "\n",
    "* `uv tool update-shell` - Update the shell to include tool executables"
   ]
  },
  {
   "cell_type": "markdown",
   "id": "1604430a-2b0c-49ba-9552-07351f615e3c",
   "metadata": {},
   "source": [
    "# Other commands"
   ]
  },
  {
   "cell_type": "markdown",
   "id": "27762fb5-9c06-4750-98ca-a4be8af93dda",
   "metadata": {},
   "source": [
    "## sync\n",
    "\n",
    "*  `uv sync`\n",
    "   * Synchronizes your virtual environment to match the project's configuration files\n",
    "   * Think of it as a one-way sync: your config files (like pyproject.toml) are the source of truth, and `uv sync` updates the environment to match them exactly\n",
    "   * When you manually edit dependencies in `pyproject.toml`, running `uv sync` will:\n",
    "       * Add/remove/update packages to match your configuration\n",
    "       * Rebuild the dependency tree properly\n",
    "       * Ensure all version constraints are satisfied"
   ]
  },
  {
   "cell_type": "markdown",
   "id": "6ee73884-9f32-4269-b26d-123fcf9e54d3",
   "metadata": {},
   "source": [
    "## lock\n",
    "\n",
    "The `uv lock` command manages your project's dependencies through two key files:\n",
    "\n",
    "* `pyproject.toml` - Your project's direct dependencies\n",
    "* `uv.lock` - A complete, version-locked dependency tree (contains fixed versions of all direct + indirect dependencies)\n",
    "\n",
    "Think of `pyproject.toml` as a recipe that lists main ingredients:\n",
    "\n",
    "```toml\n",
    "dependencies = [\n",
    "    \"requests>=2.28.0\",\n",
    "    \"flask>=2.0.0\"\n",
    "]\n",
    "```\n",
    "\n",
    "**When you run** `uv lock`, it:\n",
    "1. Reads your base dependencies from `pyproject.toml`\n",
    "2. Resolves the complete dependency tree (including dependencies of dependencies)\n",
    "3. Determines compatible versions for all packages\n",
    "4. Writes exact versions to `uv.lock`\n",
    "\n",
    "For example, your `uv.lock` will include precise versions not just for `requests` and `flask`, but also for their dependencies like `urllib3` and `werkzeug`. This ensures consistent environments across all installations.\n",
    "\n",
    "**You should run** `uv lock` when:\n",
    "\n",
    "* Adding or modifying dependencies in `pyproject.toml`\n",
    "* Updating packages while maintaining version constraints\n",
    "* Preparing to commit changes that need reproducible builds\n",
    "\n",
    "Note: While `uv lock` creates the dependency plan, use `uv sync` to actually install the packages in your environment."
   ]
  },
  {
   "cell_type": "markdown",
   "id": "f0a4e131-afd3-4598-b2d4-68e6603922e6",
   "metadata": {},
   "source": [
    "## tree\n",
    "\n",
    "The `uv tree` command displays a visual representation of your project's dependency tree.\n",
    "\n",
    "When you run `uv tree`, it shows:\n",
    "* All installed packages in your environment\n",
    "* Their dependencies indented beneath them\n",
    "* Version numbers for each package\n",
    "* Optional markers like development dependencies [dev]\n",
    "\n",
    "For example:\n",
    "\n",
    "```\n",
    "flask==3.0.0\n",
    "├── blinker==1.7.0\n",
    "├── click==8.1.7\n",
    "├── itsdangerous==2.1.2\n",
    "├── jinja2==3.1.3\n",
    "│   └── markupsafe==2.1.5\n",
    "└── werkzeug==3.0.1\n",
    "\n",
    "requests==2.31.0\n",
    "├── certifi==2024.2.2\n",
    "├── charset-normalizer==3.3.2\n",
    "├── idna==3.6\n",
    "└── urllib3==2.2.0\n",
    "```\n",
    "\n",
    "You can enhance the output with flags:\n",
    "* `uv tree --with-dev` - Include development dependencies\n",
    "* `uv tree <package>` - Show the tree for a specific package\n",
    "* `uv tree --json` - Output in JSON format for programmatic use\n",
    "\n",
    "This command is useful when:\n",
    "* Understanding package relationships in your project\n",
    "* Debugging dependency conflicts\n",
    "* Identifying which top-level packages bring in specific dependencies\n",
    "* Auditing your environment's package structure\n",
    "\n",
    "Note: Unlike `uv lock` which works with planned dependencies, `uv tree` shows currently installed packages in your environment."
   ]
  },
  {
   "cell_type": "markdown",
   "id": "bdd61cbf-4027-41bc-b6c6-ed10c3607bb4",
   "metadata": {},
   "source": [
    "# Env variables\n",
    "\n",
    "Detailed docs: https://docs.astral.sh/uv/configuration/files/#env\n",
    "\n",
    "`uv` run can load environment variables from dotenv files (`.env` files).\n",
    "\n",
    "2 options:\n",
    "\n",
    "* `uv run --env-file .env example.py` -see parameter `--env-file .env`, which loads env variables from `.env` file\n",
    "* set the `UV_ENV_FILE` environment variable to load a `.env` file from any dedicated location"
   ]
  }
 ],
 "metadata": {
  "kernelspec": {
   "display_name": "Python 3 (ipykernel)",
   "language": "python",
   "name": "python3"
  },
  "language_info": {
   "codemirror_mode": {
    "name": "ipython",
    "version": 3
   },
   "file_extension": ".py",
   "mimetype": "text/x-python",
   "name": "python",
   "nbconvert_exporter": "python",
   "pygments_lexer": "ipython3",
   "version": "3.12.8"
  }
 },
 "nbformat": 4,
 "nbformat_minor": 5
}
