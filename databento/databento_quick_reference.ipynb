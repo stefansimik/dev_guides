{
 "cells": [
  {
   "metadata": {},
   "cell_type": "raw",
   "source": [
    "---\n",
    "title: \"\"\n",
    "\n",
    "execute:\n",
    "  echo: true\n",
    "\n",
    "format:\n",
    "  html:\n",
    "    code-copy: true\n",
    "    code-fold: false\n",
    "    code-overflow: scroll\n",
    "    smooth-scroll: true\n",
    "    grid:\n",
    "      body-width: 940px\n",
    "      margin-width: 300px\n",
    "    page-layout: article\n",
    "    embed-resources: true\n",
    "    resource-path: [\"img\"]\n",
    "    output-ext: \"html\"\n",
    "    toc: true\n",
    "    toc-title: \"Obsah\"\n",
    "    toc-depth: 3\n",
    "    toc-expand: 2\n",
    "    toc-location: right\n",
    "    number-sections: true\n",
    "    number-depth: 4\n",
    "\n",
    "jupyter: python3\n",
    "---"
   ],
   "id": "fc688353d8ebe5c"
  },
  {
   "cell_type": "markdown",
   "id": "0",
   "metadata": {},
   "source": [
    "# Databento quick reference\n",
    "\n",
    "Databento documentation: \n",
    "\n",
    "* [https://databento.com/docs](https://databento.com/docs)\n",
    "\n",
    "# Basics\n",
    "\n",
    "## 3 services\n",
    "\n",
    "Databento provides 3 types of services\n",
    "\n",
    "1. `Historical` - for data older than 24 hours\n",
    "2. `Live` - for data within the last 24 hours\n",
    "3. `Reference` - all data (Historical + Live together)\n",
    "\n",
    "## 3 file formats\n",
    "\n",
    "Databento supports 3 formats for data:\n",
    "\n",
    "* `DBN` - Databento Binary Encoding (binary)\n",
    "* `csv` - comma separated values (text)\n",
    "* `json` - JavaScript Object notation (text)\n",
    "\n",
    "## Python library\n",
    "\n",
    "Databento provides simple Python library (used in this tutorial):\n",
    "\n",
    "`pip install -U databento`"
   ]
  },
  {
   "cell_type": "markdown",
   "id": "1",
   "metadata": {},
   "source": [
    "## Schemas\n",
    "\n",
    "Schema is just a sophisticated name for `type of data` you want.\n",
    "\n",
    "Most used schemas ordered from most detailed:\n",
    "\n",
    "| Schema | Type | Description |\n",
    "|--------|------|-------------|\n",
    "| `mbo` | L3 data | Provides every order book event across every price level, keyed by order ID. Allows determination of queue position for each order, offering highest level of granularity available. |\n",
    "| `mbp-10` | L2 data | Provides every order book event across top ten price levels, keyed by price. Includes trades and changes to aggregate market depth, with total size and order count at top ten price levels. |\n",
    "| `mbp-1` | L1 data | Provides every order book event updating the top price level (BBO). Includes trades and changes to book depth, with total size and order count at BBO. |\n",
    "| `bbo-1s` | L1 sampled | Similar to L1 data but sampled in 1 second intervals. Provides last best bid, best offer, and sale at 1-second intervals. |\n",
    "| `tbbo` | L1 trades | Provides every trade event alongside the BBO immediately before the effect of each trade. Subset of MBP-1. |\n",
    "| `trades` | Trade data | Provides every trade event. This is a subset of MBO data. |\n",
    "| `ohlcv-1s` | 1s bars | OHLCV bars aggregated from trades at 1-second intervals. |\n",
    "| `ohlcv-1m` | 1m bars | OHLCV bars aggregated from trades at 1-minute intervals. |\n",
    "| `ohlcv-1h` | 1h bars | OHLCV bars aggregated from trades at 1-hour intervals. |\n",
    "| `ohlcv-1d` | 1d bars | OHLCV bars aggregated from trades at 1-day intervals. |\n",
    "| `definition` | Reference | Provides reference information about instruments including symbol, name, expiration date, listing date, tick size, strike price. |\n",
    "| `status` | Exchange status | Provides updates about trading session like halts, pauses, short-selling restrictions, auction start, and other matching engine statuses. |\n",
    "| `statistics` | Exchange stats | Provides official summary statistics published by venue, including daily volume, open interest, settlement prices, and official open/high/low prices. |\n",
    "\n",
    "**How Databento generates lower-resolution data?**\n",
    "\n",
    "1. Databento first collects the most detailed market data available from each source (mostly `mbo` if available)\n",
    "2. and then derives all other formats from this most granular data to ensure 100% consistency across all data types (schemas).\n",
    "\n",
    "Additional sources:\n",
    "\n",
    "* Example tutorial how to convert tick/trades data into bars:\n",
    "    * [https://databento.com/docs/examples/basics-historical/tick-resampling/example](https://databento.com/docs/examples/basics-historical/tick-resampling/example)\n",
    "* All schemas explained in detail:\n",
    "    * [https://databento.com/docs/schemas-and-data-formats?historical=python&live=python&reference=python](https://databento.com/docs/schemas-and-data-formats?historical=python&live=python&reference=python)"
   ]
  },
  {
   "cell_type": "markdown",
   "id": "2",
   "metadata": {
    "jp-MarkdownHeadingCollapsed": true
   },
   "source": [
    "## Symbology\n",
    "\n",
    "Symbology is just a sophisticated name for the naming convention of various instruments. Abbreviation `stypes` is often used in API and docs and means \"symbology types\".\n",
    "\n",
    "Databento support 5 symbologies (naming conventions):\n",
    "\n",
    "| Symbology Type    | Description                                      | Example/Pattern                | Key Notes                                                                   |\n",
    "|:-----------------|:-------------------------------------------------|:------------------------------|:----------------------------------------------------------------------------|\n",
    "| `raw_symbol`     | Original string symbols used by data publisher    | `AAPL`, `ESH3`                | Best for direct market connectivity environments                             |\n",
    "| `instrument_id`  | Unique numeric IDs assigned by publisher          | `12345`, `9876543`            | Space-efficient but can be remapped daily by some publishers                 |\n",
    "| `parent`         | Groups related symbols using root symbol          | `ES.FUT`, `ES.OPT`            | Allows querying all futures/options for a root symbol at once                |\n",
    "| `continuous`     | References instruments that change over time      | `ES.c.0`, `CL.n.1`, `ZN.v.0`  | Roll rules: Calendar (c), Open Interest (n), Volume (v)                      |\n",
    "| `ALL_SYMBOLS`    | Requests all symbols in dataset                  | `ALL_SYMBOLS`                  |    |\n",
    "\n",
    "\n",
    "When requesting data, **input** and **output** symbology can be specified. These 4 combinations are supported (for various exchanges / publishers):\n",
    "\n",
    "| SType in    | SType out      | DBEQ.BASIC | GLBX.MDP3 | IFEU.IMPACT | NDEX.IMPACT | OPRA.PILLAR | XNAS.ITCH |\n",
    "|:---------------|:-----------------|:-----------|:----------|:------------|:------------|:------------|:----------|\n",
    "| `parent`       | `instrument_id`  |            | ✓         | ✓           | ✓           | ✓           |           |\n",
    "| `continuous`   | `instrument_id`  |            | ✓         |             |             |             |           |\n",
    "| `raw_symbol`   | `instrument_id`  | ✓          | ✓         | ✓           | ✓           | ✓           | ✓         |\n",
    "| `instrument_id`| `raw_symbol`     | ✓          | ✓         | ✓           | ✓           | ✓           | ✓         |\n",
    "\n",
    "For more details:\n",
    "\n",
    "* [https://databento.com/docs/standards-and-conventions/symbology?historical=python&live=python&reference=python](https://databento.com/docs/standards-and-conventions/symbology?historical=python&live=python&reference=python)"
   ]
  },
  {
   "cell_type": "markdown",
   "id": "3",
   "metadata": {},
   "source": [
    "## Databento file format\n",
    "\n",
    "Databento uses its own file format for market-data. It is called **Databento Binary Encoding (DBN)**.\n",
    "Think of it like more performant + compressed alternative of CSV / JSON files.\n",
    "\n",
    "You can easily load DBN file and convert it into simple CSV / JSON data.\n",
    "\n",
    "For more details:\n",
    "\n",
    "* [https://databento.com/docs/standards-and-conventions/databento-binary-encoding#getting-started-with-dbn?historical=python&live=python&reference=python](https://databento.com/docs/standards-and-conventions/databento-binary-encoding#getting-started-with-dbn?historical=python&live=python&reference=python)"
   ]
  },
  {
   "cell_type": "markdown",
   "id": "4",
   "metadata": {},
   "source": [
    "# Historical API examples"
   ]
  },
  {
   "cell_type": "markdown",
   "id": "5",
   "metadata": {},
   "source": [
    "## Authenticate & connect to Databento"
   ]
  },
  {
   "cell_type": "code",
   "execution_count": 1,
   "id": "6",
   "metadata": {},
   "outputs": [],
   "source": [
    "import databento as db\n",
    "\n",
    "\n",
    "# Establish connection and authenticate\n",
    "API_KEY = \"db-8VWGBis54s4ewGVciMRakNxLCJKen\"   # put your API key here (existing key is just example, not real)\n",
    "client = db.Historical(API_KEY)"
   ]
  },
  {
   "cell_type": "markdown",
   "id": "7",
   "metadata": {},
   "source": [
    "## Metadata\n",
    "\n",
    "### List Publishers\n",
    "\n",
    "Shows all data publishers."
   ]
  },
  {
   "cell_type": "code",
   "execution_count": 2,
   "id": "8",
   "metadata": {},
   "outputs": [
    {
     "data": {
      "text/plain": [
       "[{'publisher_id': 1,\n",
       "  'dataset': 'GLBX.MDP3',\n",
       "  'venue': 'GLBX',\n",
       "  'description': 'CME Globex MDP 3.0'},\n",
       " {'publisher_id': 2,\n",
       "  'dataset': 'XNAS.ITCH',\n",
       "  'venue': 'XNAS',\n",
       "  'description': 'Nasdaq TotalView-ITCH'},\n",
       " {'publisher_id': 3,\n",
       "  'dataset': 'XBOS.ITCH',\n",
       "  'venue': 'XBOS',\n",
       "  'description': 'Nasdaq BX TotalView-ITCH'},\n",
       " {'publisher_id': 4,\n",
       "  'dataset': 'XPSX.ITCH',\n",
       "  'venue': 'XPSX',\n",
       "  'description': 'Nasdaq PSX TotalView-ITCH'},\n",
       " {'publisher_id': 5,\n",
       "  'dataset': 'BATS.PITCH',\n",
       "  'venue': 'BATS',\n",
       "  'description': 'Cboe BZX Depth Pitch'}]"
      ]
     },
     "execution_count": 2,
     "metadata": {},
     "output_type": "execute_result"
    }
   ],
   "source": [
    "publishers = client.metadata.list_publishers()\n",
    "\n",
    "# Show only first five from long list\n",
    "publishers[:5]"
   ]
  },
  {
   "cell_type": "markdown",
   "id": "10",
   "metadata": {},
   "source": [
    "### List Datasets\n",
    "\n",
    "Each dataset is in format: `PUBLISHER.DATASET`\n",
    "\n",
    "* Publisher / Market code is based on: [https://www.iso20022.org/market-identifier-codes](https://www.iso20022.org/market-identifier-codes)"
   ]
  },
  {
   "cell_type": "code",
   "execution_count": 3,
   "id": "11",
   "metadata": {},
   "outputs": [
    {
     "data": {
      "text/plain": [
       "['ARCX.PILLAR',\n",
       " 'DBEQ.BASIC',\n",
       " 'EPRL.DOM',\n",
       " 'EQUS.SUMMARY',\n",
       " 'GLBX.MDP3',\n",
       " 'IEXG.TOPS',\n",
       " 'IFEU.IMPACT',\n",
       " 'NDEX.IMPACT',\n",
       " 'OPRA.PILLAR',\n",
       " 'XASE.PILLAR',\n",
       " 'XBOS.ITCH',\n",
       " 'XCHI.PILLAR',\n",
       " 'XCIS.TRADESBBO',\n",
       " 'XNAS.BASIC',\n",
       " 'XNAS.ITCH',\n",
       " 'XNYS.PILLAR',\n",
       " 'XPSX.ITCH']"
      ]
     },
     "execution_count": 3,
     "metadata": {},
     "output_type": "execute_result"
    }
   ],
   "source": [
    "datasets = client.metadata.list_datasets()\n",
    "datasets"
   ]
  },
  {
   "cell_type": "markdown",
   "id": "13",
   "metadata": {},
   "source": [
    "### List Schemas\n",
    "\n",
    "List all supported data formats in Databento."
   ]
  },
  {
   "cell_type": "code",
   "execution_count": 4,
   "id": "14",
   "metadata": {},
   "outputs": [
    {
     "data": {
      "text/plain": [
       "['mbo',\n",
       " 'mbp-1',\n",
       " 'mbp-10',\n",
       " 'tbbo',\n",
       " 'trades',\n",
       " 'bbo-1s',\n",
       " 'bbo-1m',\n",
       " 'ohlcv-1s',\n",
       " 'ohlcv-1m',\n",
       " 'ohlcv-1h',\n",
       " 'ohlcv-1d',\n",
       " 'definition',\n",
       " 'statistics',\n",
       " 'status']"
      ]
     },
     "execution_count": 4,
     "metadata": {},
     "output_type": "execute_result"
    }
   ],
   "source": [
    "schemas = client.metadata.list_schemas(dataset=\"GLBX.MDP3\")\n",
    "schemas"
   ]
  },
  {
   "cell_type": "markdown",
   "id": "16",
   "metadata": {},
   "source": [
    "### Dataset condition\n",
    "\n",
    "Show data availability and quality."
   ]
  },
  {
   "cell_type": "code",
   "execution_count": 5,
   "id": "17",
   "metadata": {},
   "outputs": [
    {
     "data": {
      "text/plain": [
       "[{'date': '2022-06-06',\n",
       "  'condition': 'available',\n",
       "  'last_modified_date': '2024-05-18'},\n",
       " {'date': '2022-06-07',\n",
       "  'condition': 'available',\n",
       "  'last_modified_date': '2024-05-21'},\n",
       " {'date': '2022-06-08',\n",
       "  'condition': 'available',\n",
       "  'last_modified_date': '2024-05-21'},\n",
       " {'date': '2022-06-09',\n",
       "  'condition': 'available',\n",
       "  'last_modified_date': '2024-05-21'},\n",
       " {'date': '2022-06-10',\n",
       "  'condition': 'available',\n",
       "  'last_modified_date': '2024-05-22'}]"
      ]
     },
     "execution_count": 5,
     "metadata": {},
     "output_type": "execute_result"
    }
   ],
   "source": [
    "conditions = client.metadata.get_dataset_condition(\n",
    "    dataset=\"GLBX.MDP3\",\n",
    "    start_date=\"2022-06-06\",\n",
    "    end_date=\"2022-06-10\",\n",
    ")\n",
    "\n",
    "conditions"
   ]
  },
  {
   "cell_type": "markdown",
   "id": "19",
   "metadata": {},
   "source": [
    "### Dataset range\n",
    "\n",
    "Show available range for dataset.\n",
    "\n",
    "* Use this method to discover data availability.\n",
    "* The start and end values in the response can be used with the `timeseries.get_range` and `batch.submit_job` endpoints."
   ]
  },
  {
   "cell_type": "code",
   "execution_count": 6,
   "id": "20",
   "metadata": {},
   "outputs": [
    {
     "data": {
      "text/plain": [
       "{'start': '2010-06-06T00:00:00.000000000Z',\n",
       " 'end': '2025-01-25T00:00:00.000000000Z'}"
      ]
     },
     "execution_count": 6,
     "metadata": {},
     "output_type": "execute_result"
    }
   ],
   "source": [
    "available_range = client.metadata.get_dataset_range(dataset=\"GLBX.MDP3\")\n",
    "available_range"
   ]
  },
  {
   "cell_type": "markdown",
   "id": "22",
   "metadata": {},
   "source": [
    "### Record count\n",
    "\n",
    "Returns count of records return from data query."
   ]
  },
  {
   "cell_type": "code",
   "execution_count": 7,
   "id": "23",
   "metadata": {},
   "outputs": [
    {
     "data": {
      "text/plain": [
       "23"
      ]
     },
     "execution_count": 7,
     "metadata": {},
     "output_type": "execute_result"
    }
   ],
   "source": [
    "record_count = client.metadata.get_record_count(\n",
    "    dataset=\"GLBX.MDP3\",\n",
    "    symbols=[\"ESM2\"],   # ES (S&P contract) expiring in June 2022\n",
    "    schema=\"ohlcv-1h\",  # 1 hour bars ; only time-ranges that are multiplies of 10-minutes (cannot be used for 1-min bars)\n",
    "    start=\"2022-01-06\", # including start\n",
    "    end=\"2022-01-07\"    # excluding end\n",
    ")\n",
    "\n",
    "# There is one hour break on the exchange, so 23 hourly bars are OK\n",
    "record_count"
   ]
  },
  {
   "cell_type": "markdown",
   "id": "25",
   "metadata": {},
   "source": [
    "### Costs\n",
    "\n",
    "Get costs = how much you pay for the data in US dollars."
   ]
  },
  {
   "cell_type": "code",
   "execution_count": 8,
   "id": "26",
   "metadata": {},
   "outputs": [
    {
     "data": {
      "text/plain": [
       "0.00022791326"
      ]
     },
     "execution_count": 8,
     "metadata": {},
     "output_type": "execute_result"
    }
   ],
   "source": [
    "cost = client.metadata.get_cost(\n",
    "    dataset=\"GLBX.MDP3\",\n",
    "    symbols=[\"ESM2\"],\n",
    "    schema=\"ohlcv-1h\",  # 1 hour bars ; only time-ranges that are multiplies of 10-minutes (cannot be used for 1-min bars)\n",
    "    start=\"2022-01-06\", # including start\n",
    "    end=\"2022-01-07\"    # excluding end\n",
    ")\n",
    "\n",
    "cost"
   ]
  },
  {
   "cell_type": "markdown",
   "id": "28",
   "metadata": {},
   "source": [
    "## Time series data\n",
    "\n",
    "### `get_range`\n",
    "\n",
    "* Makes a streaming request for time series data from Databento.\n",
    "* This is the primary method for getting historical market data, instrument definitions, and status data directly into your application.\n",
    "* This method only returns after all of the data has been downloaded, which can take a long time.\n",
    "\n",
    "**Warning:**\n",
    "* `ts_event` represents start-time of aggregation. So if we download bars, the timestamp represents **opening time** for each bar."
   ]
  },
  {
   "cell_type": "code",
   "execution_count": 9,
   "id": "29",
   "metadata": {},
   "outputs": [
    {
     "data": {
      "text/plain": [
       "<DBNStore(schema=ohlcv-1h)>"
      ]
     },
     "execution_count": 9,
     "metadata": {},
     "output_type": "execute_result"
    }
   ],
   "source": [
    "data = client.timeseries.get_range(\n",
    "    dataset=\"GLBX.MDP3\",\n",
    "    symbols=[\"ESM2\"],            # ES (S&P contract) expiring in June 2022\n",
    "    schema=\"ohlcv-1h\",           # Hourly bars\n",
    "    start=\"2022-06-01T00:00:00\",\n",
    "    end=\"2022-06-03T00:10:00\",\n",
    "    limit=5,                    # Optional limit on count of results\n",
    ")\n",
    "\n",
    "# Data are received in DBNStore format\n",
    "data"
   ]
  },
  {
   "cell_type": "code",
   "execution_count": 10,
   "id": "31",
   "metadata": {},
   "outputs": [
    {
     "name": "stdout",
     "output_type": "stream",
     "text": [
      "5\n"
     ]
    },
    {
     "data": {
      "text/html": [
       "<div>\n",
       "<style scoped>\n",
       "    .dataframe tbody tr th:only-of-type {\n",
       "        vertical-align: middle;\n",
       "    }\n",
       "\n",
       "    .dataframe tbody tr th {\n",
       "        vertical-align: top;\n",
       "    }\n",
       "\n",
       "    .dataframe thead th {\n",
       "        text-align: right;\n",
       "    }\n",
       "</style>\n",
       "<table border=\"1\" class=\"dataframe\">\n",
       "  <thead>\n",
       "    <tr style=\"text-align: right;\">\n",
       "      <th></th>\n",
       "      <th>rtype</th>\n",
       "      <th>publisher_id</th>\n",
       "      <th>instrument_id</th>\n",
       "      <th>open</th>\n",
       "      <th>high</th>\n",
       "      <th>low</th>\n",
       "      <th>close</th>\n",
       "      <th>volume</th>\n",
       "      <th>symbol</th>\n",
       "    </tr>\n",
       "    <tr>\n",
       "      <th>ts_event</th>\n",
       "      <th></th>\n",
       "      <th></th>\n",
       "      <th></th>\n",
       "      <th></th>\n",
       "      <th></th>\n",
       "      <th></th>\n",
       "      <th></th>\n",
       "      <th></th>\n",
       "      <th></th>\n",
       "    </tr>\n",
       "  </thead>\n",
       "  <tbody>\n",
       "    <tr>\n",
       "      <th>2022-06-01 00:00:00+00:00</th>\n",
       "      <td>34</td>\n",
       "      <td>1</td>\n",
       "      <td>3403</td>\n",
       "      <td>4148.25</td>\n",
       "      <td>4152.50</td>\n",
       "      <td>4148.00</td>\n",
       "      <td>4149.75</td>\n",
       "      <td>9280</td>\n",
       "      <td>ESM2</td>\n",
       "    </tr>\n",
       "    <tr>\n",
       "      <th>2022-06-01 01:00:00+00:00</th>\n",
       "      <td>34</td>\n",
       "      <td>1</td>\n",
       "      <td>3403</td>\n",
       "      <td>4150.00</td>\n",
       "      <td>4156.75</td>\n",
       "      <td>4148.50</td>\n",
       "      <td>4153.25</td>\n",
       "      <td>11333</td>\n",
       "      <td>ESM2</td>\n",
       "    </tr>\n",
       "    <tr>\n",
       "      <th>2022-06-01 02:00:00+00:00</th>\n",
       "      <td>34</td>\n",
       "      <td>1</td>\n",
       "      <td>3403</td>\n",
       "      <td>4153.25</td>\n",
       "      <td>4154.25</td>\n",
       "      <td>4145.50</td>\n",
       "      <td>4146.00</td>\n",
       "      <td>7257</td>\n",
       "      <td>ESM2</td>\n",
       "    </tr>\n",
       "    <tr>\n",
       "      <th>2022-06-01 03:00:00+00:00</th>\n",
       "      <td>34</td>\n",
       "      <td>1</td>\n",
       "      <td>3403</td>\n",
       "      <td>4146.00</td>\n",
       "      <td>4147.25</td>\n",
       "      <td>4142.75</td>\n",
       "      <td>4146.25</td>\n",
       "      <td>5468</td>\n",
       "      <td>ESM2</td>\n",
       "    </tr>\n",
       "    <tr>\n",
       "      <th>2022-06-01 04:00:00+00:00</th>\n",
       "      <td>34</td>\n",
       "      <td>1</td>\n",
       "      <td>3403</td>\n",
       "      <td>4146.00</td>\n",
       "      <td>4148.00</td>\n",
       "      <td>4138.50</td>\n",
       "      <td>4147.00</td>\n",
       "      <td>6939</td>\n",
       "      <td>ESM2</td>\n",
       "    </tr>\n",
       "  </tbody>\n",
       "</table>\n",
       "</div>"
      ],
      "text/plain": [
       "                           rtype  publisher_id  instrument_id     open  \\\n",
       "ts_event                                                                 \n",
       "2022-06-01 00:00:00+00:00     34             1           3403  4148.25   \n",
       "2022-06-01 01:00:00+00:00     34             1           3403  4150.00   \n",
       "2022-06-01 02:00:00+00:00     34             1           3403  4153.25   \n",
       "2022-06-01 03:00:00+00:00     34             1           3403  4146.00   \n",
       "2022-06-01 04:00:00+00:00     34             1           3403  4146.00   \n",
       "\n",
       "                              high      low    close  volume symbol  \n",
       "ts_event                                                             \n",
       "2022-06-01 00:00:00+00:00  4152.50  4148.00  4149.75    9280   ESM2  \n",
       "2022-06-01 01:00:00+00:00  4156.75  4148.50  4153.25   11333   ESM2  \n",
       "2022-06-01 02:00:00+00:00  4154.25  4145.50  4146.00    7257   ESM2  \n",
       "2022-06-01 03:00:00+00:00  4147.25  4142.75  4146.25    5468   ESM2  \n",
       "2022-06-01 04:00:00+00:00  4148.00  4138.50  4147.00    6939   ESM2  "
      ]
     },
     "execution_count": 10,
     "metadata": {},
     "output_type": "execute_result"
    }
   ],
   "source": [
    "# Convert DBN format to pandas-dataframe\n",
    "df = data.to_df()\n",
    "\n",
    "# Preview\n",
    "print(len(df))\n",
    "df"
   ]
  },
  {
   "cell_type": "markdown",
   "id": "33",
   "metadata": {},
   "source": [
    "Note:\n",
    "\n",
    "* `rtype` = 1-hour bars \n",
    "* More codes like this: [https://databento.com/docs/standards-and-conventions/common-fields-enums-types#rtype?historical=python&live=python&reference=python](https://databento.com/docs/standards-and-conventions/common-fields-enums-types#rtype?historical=python&live=python&reference=python)"
   ]
  },
  {
   "cell_type": "markdown",
   "id": "34",
   "metadata": {},
   "source": [
    "## Symbols\n",
    "\n",
    "### `resolve`\n",
    "\n",
    "Resolve a list of symbols from an **input** symbology type, to an **output** symbology type.\n",
    "\n",
    "* Example: `raw_symbol` to an `instrument_id`: `ESM2` → `3403`"
   ]
  },
  {
   "cell_type": "code",
   "execution_count": 11,
   "id": "35",
   "metadata": {},
   "outputs": [
    {
     "data": {
      "text/plain": [
       "{'result': {'ESM2': [{'d0': '2022-06-01', 'd1': '2022-06-26', 's': '3403'}]},\n",
       " 'symbols': ['ESM2'],\n",
       " 'stype_in': 'raw_symbol',\n",
       " 'stype_out': 'instrument_id',\n",
       " 'start_date': '2022-06-01',\n",
       " 'end_date': '2022-06-30',\n",
       " 'partial': [],\n",
       " 'not_found': [],\n",
       " 'message': 'OK',\n",
       " 'status': 0}"
      ]
     },
     "execution_count": 11,
     "metadata": {},
     "output_type": "execute_result"
    }
   ],
   "source": [
    "result = client.symbology.resolve(\n",
    "    dataset=\"GLBX.MDP3\",\n",
    "    symbols=[\"ESM2\"],\n",
    "    stype_in=\"raw_symbol\",\n",
    "    stype_out=\"instrument_id\",\n",
    "    start_date=\"2022-06-01\",\n",
    "    end_date=\"2022-06-30\",\n",
    ")\n",
    "\n",
    "result"
   ]
  },
  {
   "cell_type": "markdown",
   "id": "37",
   "metadata": {},
   "source": [
    "Most important is the `result` and key-value pair `'s': '3403'`, which contains value of instrument_id."
   ]
  },
  {
   "cell_type": "markdown",
   "id": "38",
   "metadata": {},
   "source": [
    "## DBNStore operations\n",
    "\n",
    "The `DBNStore` object is an helper class for working with `DBN` encoded data."
   ]
  },
  {
   "cell_type": "markdown",
   "id": "39",
   "metadata": {},
   "source": [
    "### `from_bytes`\n",
    "\n",
    "Read data from a DBN byte stream."
   ]
  },
  {
   "cell_type": "code",
   "execution_count": 12,
   "id": "40",
   "metadata": {},
   "outputs": [
    {
     "data": {
      "text/html": [
       "<div>\n",
       "<style scoped>\n",
       "    .dataframe tbody tr th:only-of-type {\n",
       "        vertical-align: middle;\n",
       "    }\n",
       "\n",
       "    .dataframe tbody tr th {\n",
       "        vertical-align: top;\n",
       "    }\n",
       "\n",
       "    .dataframe thead th {\n",
       "        text-align: right;\n",
       "    }\n",
       "</style>\n",
       "<table border=\"1\" class=\"dataframe\">\n",
       "  <thead>\n",
       "    <tr style=\"text-align: right;\">\n",
       "      <th></th>\n",
       "      <th>rtype</th>\n",
       "      <th>publisher_id</th>\n",
       "      <th>instrument_id</th>\n",
       "      <th>open</th>\n",
       "      <th>high</th>\n",
       "      <th>low</th>\n",
       "      <th>close</th>\n",
       "      <th>volume</th>\n",
       "      <th>symbol</th>\n",
       "    </tr>\n",
       "    <tr>\n",
       "      <th>ts_event</th>\n",
       "      <th></th>\n",
       "      <th></th>\n",
       "      <th></th>\n",
       "      <th></th>\n",
       "      <th></th>\n",
       "      <th></th>\n",
       "      <th></th>\n",
       "      <th></th>\n",
       "      <th></th>\n",
       "    </tr>\n",
       "  </thead>\n",
       "  <tbody>\n",
       "    <tr>\n",
       "      <th>2022-06-06 00:00:00+00:00</th>\n",
       "      <td>34</td>\n",
       "      <td>1</td>\n",
       "      <td>3403</td>\n",
       "      <td>4108.50</td>\n",
       "      <td>4116.00</td>\n",
       "      <td>4104.50</td>\n",
       "      <td>4114.75</td>\n",
       "      <td>8540</td>\n",
       "      <td>ESM2</td>\n",
       "    </tr>\n",
       "    <tr>\n",
       "      <th>2022-06-06 01:00:00+00:00</th>\n",
       "      <td>34</td>\n",
       "      <td>1</td>\n",
       "      <td>3403</td>\n",
       "      <td>4114.75</td>\n",
       "      <td>4121.75</td>\n",
       "      <td>4112.00</td>\n",
       "      <td>4121.25</td>\n",
       "      <td>14007</td>\n",
       "      <td>ESM2</td>\n",
       "    </tr>\n",
       "    <tr>\n",
       "      <th>2022-06-06 02:00:00+00:00</th>\n",
       "      <td>34</td>\n",
       "      <td>1</td>\n",
       "      <td>3403</td>\n",
       "      <td>4121.25</td>\n",
       "      <td>4126.00</td>\n",
       "      <td>4119.75</td>\n",
       "      <td>4125.25</td>\n",
       "      <td>10149</td>\n",
       "      <td>ESM2</td>\n",
       "    </tr>\n",
       "  </tbody>\n",
       "</table>\n",
       "</div>"
      ],
      "text/plain": [
       "                           rtype  publisher_id  instrument_id     open  \\\n",
       "ts_event                                                                 \n",
       "2022-06-06 00:00:00+00:00     34             1           3403  4108.50   \n",
       "2022-06-06 01:00:00+00:00     34             1           3403  4114.75   \n",
       "2022-06-06 02:00:00+00:00     34             1           3403  4121.25   \n",
       "\n",
       "                              high      low    close  volume symbol  \n",
       "ts_event                                                             \n",
       "2022-06-06 00:00:00+00:00  4116.00  4104.50  4114.75    8540   ESM2  \n",
       "2022-06-06 01:00:00+00:00  4121.75  4112.00  4121.25   14007   ESM2  \n",
       "2022-06-06 02:00:00+00:00  4126.00  4119.75  4125.25   10149   ESM2  "
      ]
     },
     "execution_count": 12,
     "metadata": {},
     "output_type": "execute_result"
    }
   ],
   "source": [
    "dbn_data = client.timeseries.get_range(\n",
    "    dataset=\"GLBX.MDP3\",\n",
    "    symbols=[\"ESM2\"],\n",
    "    schema=\"ohlcv-1h\",\n",
    "    start=\"2022-06-06\",\n",
    "    limit=3\n",
    ")\n",
    "\n",
    "dbn_data.to_df()"
   ]
  },
  {
   "cell_type": "code",
   "execution_count": 13,
   "id": "42",
   "metadata": {},
   "outputs": [],
   "source": [
    "# Save streamed data to file - recommended suffix is: `*.dbn.zst`\n",
    "path = \"./GLBX-ESM2-20220606.ohlcv-1h.dbn.zst\"\n",
    "dbn_data.to_file(path)"
   ]
  },
  {
   "cell_type": "code",
   "execution_count": 14,
   "id": "43",
   "metadata": {},
   "outputs": [
    {
     "data": {
      "text/html": [
       "<div>\n",
       "<style scoped>\n",
       "    .dataframe tbody tr th:only-of-type {\n",
       "        vertical-align: middle;\n",
       "    }\n",
       "\n",
       "    .dataframe tbody tr th {\n",
       "        vertical-align: top;\n",
       "    }\n",
       "\n",
       "    .dataframe thead th {\n",
       "        text-align: right;\n",
       "    }\n",
       "</style>\n",
       "<table border=\"1\" class=\"dataframe\">\n",
       "  <thead>\n",
       "    <tr style=\"text-align: right;\">\n",
       "      <th></th>\n",
       "      <th>rtype</th>\n",
       "      <th>publisher_id</th>\n",
       "      <th>instrument_id</th>\n",
       "      <th>open</th>\n",
       "      <th>high</th>\n",
       "      <th>low</th>\n",
       "      <th>close</th>\n",
       "      <th>volume</th>\n",
       "      <th>symbol</th>\n",
       "    </tr>\n",
       "    <tr>\n",
       "      <th>ts_event</th>\n",
       "      <th></th>\n",
       "      <th></th>\n",
       "      <th></th>\n",
       "      <th></th>\n",
       "      <th></th>\n",
       "      <th></th>\n",
       "      <th></th>\n",
       "      <th></th>\n",
       "      <th></th>\n",
       "    </tr>\n",
       "  </thead>\n",
       "  <tbody>\n",
       "    <tr>\n",
       "      <th>2022-06-06 00:00:00+00:00</th>\n",
       "      <td>34</td>\n",
       "      <td>1</td>\n",
       "      <td>3403</td>\n",
       "      <td>4108.50</td>\n",
       "      <td>4116.00</td>\n",
       "      <td>4104.50</td>\n",
       "      <td>4114.75</td>\n",
       "      <td>8540</td>\n",
       "      <td>ESM2</td>\n",
       "    </tr>\n",
       "    <tr>\n",
       "      <th>2022-06-06 01:00:00+00:00</th>\n",
       "      <td>34</td>\n",
       "      <td>1</td>\n",
       "      <td>3403</td>\n",
       "      <td>4114.75</td>\n",
       "      <td>4121.75</td>\n",
       "      <td>4112.00</td>\n",
       "      <td>4121.25</td>\n",
       "      <td>14007</td>\n",
       "      <td>ESM2</td>\n",
       "    </tr>\n",
       "    <tr>\n",
       "      <th>2022-06-06 02:00:00+00:00</th>\n",
       "      <td>34</td>\n",
       "      <td>1</td>\n",
       "      <td>3403</td>\n",
       "      <td>4121.25</td>\n",
       "      <td>4126.00</td>\n",
       "      <td>4119.75</td>\n",
       "      <td>4125.25</td>\n",
       "      <td>10149</td>\n",
       "      <td>ESM2</td>\n",
       "    </tr>\n",
       "  </tbody>\n",
       "</table>\n",
       "</div>"
      ],
      "text/plain": [
       "                           rtype  publisher_id  instrument_id     open  \\\n",
       "ts_event                                                                 \n",
       "2022-06-06 00:00:00+00:00     34             1           3403  4108.50   \n",
       "2022-06-06 01:00:00+00:00     34             1           3403  4114.75   \n",
       "2022-06-06 02:00:00+00:00     34             1           3403  4121.25   \n",
       "\n",
       "                              high      low    close  volume symbol  \n",
       "ts_event                                                             \n",
       "2022-06-06 00:00:00+00:00  4116.00  4104.50  4114.75    8540   ESM2  \n",
       "2022-06-06 01:00:00+00:00  4121.75  4112.00  4121.25   14007   ESM2  \n",
       "2022-06-06 02:00:00+00:00  4126.00  4119.75  4125.25   10149   ESM2  "
      ]
     },
     "execution_count": 14,
     "metadata": {},
     "output_type": "execute_result"
    }
   ],
   "source": [
    "# Load data from previously saved file and create DBN object again\n",
    "with open(path, \"rb\") as saved:\n",
    "    loaded_dbn_data = db.DBNStore.from_bytes(saved)\n",
    "\n",
    "loaded_dbn_data.to_df()"
   ]
  },
  {
   "cell_type": "markdown",
   "id": "45",
   "metadata": {},
   "source": [
    "### `from_file`\n",
    "\n",
    "Reads data from a DBN file."
   ]
  },
  {
   "cell_type": "code",
   "execution_count": 15,
   "id": "46",
   "metadata": {},
   "outputs": [
    {
     "data": {
      "text/html": [
       "<div>\n",
       "<style scoped>\n",
       "    .dataframe tbody tr th:only-of-type {\n",
       "        vertical-align: middle;\n",
       "    }\n",
       "\n",
       "    .dataframe tbody tr th {\n",
       "        vertical-align: top;\n",
       "    }\n",
       "\n",
       "    .dataframe thead th {\n",
       "        text-align: right;\n",
       "    }\n",
       "</style>\n",
       "<table border=\"1\" class=\"dataframe\">\n",
       "  <thead>\n",
       "    <tr style=\"text-align: right;\">\n",
       "      <th></th>\n",
       "      <th>rtype</th>\n",
       "      <th>publisher_id</th>\n",
       "      <th>instrument_id</th>\n",
       "      <th>open</th>\n",
       "      <th>high</th>\n",
       "      <th>low</th>\n",
       "      <th>close</th>\n",
       "      <th>volume</th>\n",
       "      <th>symbol</th>\n",
       "    </tr>\n",
       "    <tr>\n",
       "      <th>ts_event</th>\n",
       "      <th></th>\n",
       "      <th></th>\n",
       "      <th></th>\n",
       "      <th></th>\n",
       "      <th></th>\n",
       "      <th></th>\n",
       "      <th></th>\n",
       "      <th></th>\n",
       "      <th></th>\n",
       "    </tr>\n",
       "  </thead>\n",
       "  <tbody>\n",
       "    <tr>\n",
       "      <th>2022-06-06 00:00:00+00:00</th>\n",
       "      <td>34</td>\n",
       "      <td>1</td>\n",
       "      <td>3403</td>\n",
       "      <td>4108.50</td>\n",
       "      <td>4116.00</td>\n",
       "      <td>4104.50</td>\n",
       "      <td>4114.75</td>\n",
       "      <td>8540</td>\n",
       "      <td>ESM2</td>\n",
       "    </tr>\n",
       "    <tr>\n",
       "      <th>2022-06-06 01:00:00+00:00</th>\n",
       "      <td>34</td>\n",
       "      <td>1</td>\n",
       "      <td>3403</td>\n",
       "      <td>4114.75</td>\n",
       "      <td>4121.75</td>\n",
       "      <td>4112.00</td>\n",
       "      <td>4121.25</td>\n",
       "      <td>14007</td>\n",
       "      <td>ESM2</td>\n",
       "    </tr>\n",
       "    <tr>\n",
       "      <th>2022-06-06 02:00:00+00:00</th>\n",
       "      <td>34</td>\n",
       "      <td>1</td>\n",
       "      <td>3403</td>\n",
       "      <td>4121.25</td>\n",
       "      <td>4126.00</td>\n",
       "      <td>4119.75</td>\n",
       "      <td>4125.25</td>\n",
       "      <td>10149</td>\n",
       "      <td>ESM2</td>\n",
       "    </tr>\n",
       "  </tbody>\n",
       "</table>\n",
       "</div>"
      ],
      "text/plain": [
       "                           rtype  publisher_id  instrument_id     open  \\\n",
       "ts_event                                                                 \n",
       "2022-06-06 00:00:00+00:00     34             1           3403  4108.50   \n",
       "2022-06-06 01:00:00+00:00     34             1           3403  4114.75   \n",
       "2022-06-06 02:00:00+00:00     34             1           3403  4121.25   \n",
       "\n",
       "                              high      low    close  volume symbol  \n",
       "ts_event                                                             \n",
       "2022-06-06 00:00:00+00:00  4116.00  4104.50  4114.75    8540   ESM2  \n",
       "2022-06-06 01:00:00+00:00  4121.75  4112.00  4121.25   14007   ESM2  \n",
       "2022-06-06 02:00:00+00:00  4126.00  4119.75  4125.25   10149   ESM2  "
      ]
     },
     "execution_count": 15,
     "metadata": {},
     "output_type": "execute_result"
    }
   ],
   "source": [
    "loaded_dbn_data = db.DBNStore.from_file(path)\n",
    "loaded_dbn_data.to_df()"
   ]
  },
  {
   "cell_type": "markdown",
   "id": "48",
   "metadata": {},
   "source": [
    "### `to_csv`\n",
    "\n",
    "Write data to a file in CSV format."
   ]
  },
  {
   "cell_type": "code",
   "execution_count": 16,
   "id": "49",
   "metadata": {},
   "outputs": [],
   "source": [
    "dbn_data = client.timeseries.get_range(\n",
    "    dataset=\"GLBX.MDP3\",\n",
    "    symbols=[\"ESM2\"],\n",
    "    schema=\"ohlcv-1h\",\n",
    "    start=\"2022-06-06\",\n",
    "    limit=3\n",
    ")\n",
    "\n",
    "# Export to CSV file\n",
    "dbn_data.to_csv(\"GLBX-ESM2-20220606-ohlcv-1h.csv\")"
   ]
  },
  {
   "cell_type": "markdown",
   "id": "50",
   "metadata": {},
   "source": [
    "### `to_df`\n",
    "\n",
    "Converts DBN data to a pandas DataFrame."
   ]
  },
  {
   "cell_type": "code",
   "execution_count": 17,
   "id": "51",
   "metadata": {},
   "outputs": [
    {
     "data": {
      "text/html": [
       "<div>\n",
       "<style scoped>\n",
       "    .dataframe tbody tr th:only-of-type {\n",
       "        vertical-align: middle;\n",
       "    }\n",
       "\n",
       "    .dataframe tbody tr th {\n",
       "        vertical-align: top;\n",
       "    }\n",
       "\n",
       "    .dataframe thead th {\n",
       "        text-align: right;\n",
       "    }\n",
       "</style>\n",
       "<table border=\"1\" class=\"dataframe\">\n",
       "  <thead>\n",
       "    <tr style=\"text-align: right;\">\n",
       "      <th></th>\n",
       "      <th>rtype</th>\n",
       "      <th>publisher_id</th>\n",
       "      <th>instrument_id</th>\n",
       "      <th>open</th>\n",
       "      <th>high</th>\n",
       "      <th>low</th>\n",
       "      <th>close</th>\n",
       "      <th>volume</th>\n",
       "      <th>symbol</th>\n",
       "    </tr>\n",
       "    <tr>\n",
       "      <th>ts_event</th>\n",
       "      <th></th>\n",
       "      <th></th>\n",
       "      <th></th>\n",
       "      <th></th>\n",
       "      <th></th>\n",
       "      <th></th>\n",
       "      <th></th>\n",
       "      <th></th>\n",
       "      <th></th>\n",
       "    </tr>\n",
       "  </thead>\n",
       "  <tbody>\n",
       "    <tr>\n",
       "      <th>2022-06-06 00:00:00+00:00</th>\n",
       "      <td>34</td>\n",
       "      <td>1</td>\n",
       "      <td>3403</td>\n",
       "      <td>4108.50</td>\n",
       "      <td>4116.00</td>\n",
       "      <td>4104.50</td>\n",
       "      <td>4114.75</td>\n",
       "      <td>8540</td>\n",
       "      <td>ESM2</td>\n",
       "    </tr>\n",
       "    <tr>\n",
       "      <th>2022-06-06 01:00:00+00:00</th>\n",
       "      <td>34</td>\n",
       "      <td>1</td>\n",
       "      <td>3403</td>\n",
       "      <td>4114.75</td>\n",
       "      <td>4121.75</td>\n",
       "      <td>4112.00</td>\n",
       "      <td>4121.25</td>\n",
       "      <td>14007</td>\n",
       "      <td>ESM2</td>\n",
       "    </tr>\n",
       "    <tr>\n",
       "      <th>2022-06-06 02:00:00+00:00</th>\n",
       "      <td>34</td>\n",
       "      <td>1</td>\n",
       "      <td>3403</td>\n",
       "      <td>4121.25</td>\n",
       "      <td>4126.00</td>\n",
       "      <td>4119.75</td>\n",
       "      <td>4125.25</td>\n",
       "      <td>10149</td>\n",
       "      <td>ESM2</td>\n",
       "    </tr>\n",
       "  </tbody>\n",
       "</table>\n",
       "</div>"
      ],
      "text/plain": [
       "                           rtype  publisher_id  instrument_id     open  \\\n",
       "ts_event                                                                 \n",
       "2022-06-06 00:00:00+00:00     34             1           3403  4108.50   \n",
       "2022-06-06 01:00:00+00:00     34             1           3403  4114.75   \n",
       "2022-06-06 02:00:00+00:00     34             1           3403  4121.25   \n",
       "\n",
       "                              high      low    close  volume symbol  \n",
       "ts_event                                                             \n",
       "2022-06-06 00:00:00+00:00  4116.00  4104.50  4114.75    8540   ESM2  \n",
       "2022-06-06 01:00:00+00:00  4121.75  4112.00  4121.25   14007   ESM2  \n",
       "2022-06-06 02:00:00+00:00  4126.00  4119.75  4125.25   10149   ESM2  "
      ]
     },
     "execution_count": 17,
     "metadata": {},
     "output_type": "execute_result"
    }
   ],
   "source": [
    "# Export to pandas DataFrame\n",
    "dbn_data.to_df()"
   ]
  },
  {
   "cell_type": "markdown",
   "id": "53",
   "metadata": {},
   "source": [
    "### `to_json`\n",
    "\n",
    "Write data to a file in JSON format."
   ]
  },
  {
   "cell_type": "code",
   "execution_count": 18,
   "id": "54",
   "metadata": {},
   "outputs": [],
   "source": [
    "# Export to pandas DataFrame\n",
    "dbn_data.to_json(\"GLBX-ESM2-20220606-ohlcv-1h.json\")"
   ]
  },
  {
   "cell_type": "markdown",
   "id": "55",
   "metadata": {},
   "source": [
    "### `to_file`\n",
    "\n",
    "Write data to a DBN file."
   ]
  },
  {
   "cell_type": "code",
   "execution_count": 19,
   "id": "56",
   "metadata": {},
   "outputs": [],
   "source": [
    "# Export to DBN file\n",
    "dbn_data.to_file(\"GLBX-ESM2-20220606.ohlcv-1h.dbn.zst\")"
   ]
  },
  {
   "cell_type": "markdown",
   "id": "57",
   "metadata": {},
   "source": [
    "### `to_ndarray`\n",
    "\n",
    "* Converts data to a numpy N-dimensional array.\n",
    "* Each element will contain a Python representation of the binary fields as a `Tuple`."
   ]
  },
  {
   "cell_type": "code",
   "execution_count": 20,
   "id": "58",
   "metadata": {},
   "outputs": [
    {
     "data": {
      "text/plain": [
       "array([(14, 34, 1, 3403, 1654473600000000000, 4108500000000, 4116000000000, 4104500000000, 4114750000000,  8540),\n",
       "       (14, 34, 1, 3403, 1654477200000000000, 4114750000000, 4121750000000, 4112000000000, 4121250000000, 14007),\n",
       "       (14, 34, 1, 3403, 1654480800000000000, 4121250000000, 4126000000000, 4119750000000, 4125250000000, 10149)],\n",
       "      dtype=[('length', 'u1'), ('rtype', 'u1'), ('publisher_id', '<u2'), ('instrument_id', '<u4'), ('ts_event', '<u8'), ('open', '<i8'), ('high', '<i8'), ('low', '<i8'), ('close', '<i8'), ('volume', '<u8')])"
      ]
     },
     "execution_count": 20,
     "metadata": {},
     "output_type": "execute_result"
    }
   ],
   "source": [
    "# Export to numpy-array\n",
    "ndarray = dbn_data.to_ndarray()\n",
    "ndarray"
   ]
  },
  {
   "cell_type": "markdown",
   "id": "59",
   "metadata": {},
   "source": [
    "### `to_parquet`\n",
    "\n",
    "* Write data to a file in [Apache parquet](https://parquet.apache.org/) format."
   ]
  },
  {
   "cell_type": "code",
   "execution_count": 21,
   "id": "60",
   "metadata": {},
   "outputs": [],
   "source": [
    "# Export to Apache Parquet file\n",
    "dbn_data.to_parquet(\"GLBX-ESM2-20220606-ohlcv-1h.parquet\")"
   ]
  },
  {
   "cell_type": "markdown",
   "id": "61",
   "metadata": {},
   "source": [
    "### `for` cycle\n",
    "\n",
    "* You can use standard python `for` cycle to iterate over DBN file content."
   ]
  },
  {
   "cell_type": "code",
   "execution_count": 22,
   "id": "62",
   "metadata": {},
   "outputs": [
    {
     "data": {
      "text/html": [
       "<div>\n",
       "<style scoped>\n",
       "    .dataframe tbody tr th:only-of-type {\n",
       "        vertical-align: middle;\n",
       "    }\n",
       "\n",
       "    .dataframe tbody tr th {\n",
       "        vertical-align: top;\n",
       "    }\n",
       "\n",
       "    .dataframe thead th {\n",
       "        text-align: right;\n",
       "    }\n",
       "</style>\n",
       "<table border=\"1\" class=\"dataframe\">\n",
       "  <thead>\n",
       "    <tr style=\"text-align: right;\">\n",
       "      <th></th>\n",
       "      <th>rtype</th>\n",
       "      <th>publisher_id</th>\n",
       "      <th>instrument_id</th>\n",
       "      <th>open</th>\n",
       "      <th>high</th>\n",
       "      <th>low</th>\n",
       "      <th>close</th>\n",
       "      <th>volume</th>\n",
       "      <th>symbol</th>\n",
       "    </tr>\n",
       "    <tr>\n",
       "      <th>ts_event</th>\n",
       "      <th></th>\n",
       "      <th></th>\n",
       "      <th></th>\n",
       "      <th></th>\n",
       "      <th></th>\n",
       "      <th></th>\n",
       "      <th></th>\n",
       "      <th></th>\n",
       "      <th></th>\n",
       "    </tr>\n",
       "  </thead>\n",
       "  <tbody>\n",
       "    <tr>\n",
       "      <th>2022-06-06 00:00:00+00:00</th>\n",
       "      <td>34</td>\n",
       "      <td>1</td>\n",
       "      <td>3403</td>\n",
       "      <td>4108.50</td>\n",
       "      <td>4116.00</td>\n",
       "      <td>4104.50</td>\n",
       "      <td>4114.75</td>\n",
       "      <td>8540</td>\n",
       "      <td>ESM2</td>\n",
       "    </tr>\n",
       "    <tr>\n",
       "      <th>2022-06-06 01:00:00+00:00</th>\n",
       "      <td>34</td>\n",
       "      <td>1</td>\n",
       "      <td>3403</td>\n",
       "      <td>4114.75</td>\n",
       "      <td>4121.75</td>\n",
       "      <td>4112.00</td>\n",
       "      <td>4121.25</td>\n",
       "      <td>14007</td>\n",
       "      <td>ESM2</td>\n",
       "    </tr>\n",
       "    <tr>\n",
       "      <th>2022-06-06 02:00:00+00:00</th>\n",
       "      <td>34</td>\n",
       "      <td>1</td>\n",
       "      <td>3403</td>\n",
       "      <td>4121.25</td>\n",
       "      <td>4126.00</td>\n",
       "      <td>4119.75</td>\n",
       "      <td>4125.25</td>\n",
       "      <td>10149</td>\n",
       "      <td>ESM2</td>\n",
       "    </tr>\n",
       "  </tbody>\n",
       "</table>\n",
       "</div>"
      ],
      "text/plain": [
       "                           rtype  publisher_id  instrument_id     open  \\\n",
       "ts_event                                                                 \n",
       "2022-06-06 00:00:00+00:00     34             1           3403  4108.50   \n",
       "2022-06-06 01:00:00+00:00     34             1           3403  4114.75   \n",
       "2022-06-06 02:00:00+00:00     34             1           3403  4121.25   \n",
       "\n",
       "                              high      low    close  volume symbol  \n",
       "ts_event                                                             \n",
       "2022-06-06 00:00:00+00:00  4116.00  4104.50  4114.75    8540   ESM2  \n",
       "2022-06-06 01:00:00+00:00  4121.75  4112.00  4121.25   14007   ESM2  \n",
       "2022-06-06 02:00:00+00:00  4126.00  4119.75  4125.25   10149   ESM2  "
      ]
     },
     "execution_count": 22,
     "metadata": {},
     "output_type": "execute_result"
    }
   ],
   "source": [
    "# Let's load some data first\n",
    "dbn_data = client.timeseries.get_range(\n",
    "    dataset=\"GLBX.MDP3\",\n",
    "    symbols=[\"ESM2\"],\n",
    "    schema=\"ohlcv-1h\",\n",
    "    start=\"2022-06-06\",\n",
    "    limit=3\n",
    ")\n",
    "\n",
    "# Contains 3 hourly bars\n",
    "dbn_data.to_df()"
   ]
  },
  {
   "cell_type": "code",
   "execution_count": 23,
   "id": "64",
   "metadata": {},
   "outputs": [
    {
     "name": "stdout",
     "output_type": "stream",
     "text": [
      "OhlcvMsg { hd: RecordHeader { length: 14, rtype: Ohlcv1H, publisher_id: GlbxMdp3Glbx, instrument_id: 3403, ts_event: 1654473600000000000 }, open: 4108.500000000, high: 4116.000000000, low: 4104.500000000, close: 4114.750000000, volume: 8540 }\n"
     ]
    }
   ],
   "source": [
    "# We can use DBN data in for-cycle:\n",
    "for bar in dbn_data:\n",
    "    print(bar)   # print full bar data\n",
    "    break        # intentionally break to see only 1st bar"
   ]
  },
  {
   "cell_type": "code",
   "execution_count": 24,
   "id": "66",
   "metadata": {},
   "outputs": [
    {
     "name": "stdout",
     "output_type": "stream",
     "text": [
      "Bar open: 4108500000000\n"
     ]
    }
   ],
   "source": [
    "for bar in dbn_data:\n",
    "    print(f\"Bar open: {bar.open}\")  # print only bar-open information\n",
    "    break                           # intentionally break to see only 1st bar"
   ]
  },
  {
   "cell_type": "markdown",
   "id": "68",
   "metadata": {},
   "source": [
    "# Examples\n",
    "\n",
    "## Download 1-min 6E data"
   ]
  },
  {
   "cell_type": "code",
   "execution_count": 25,
   "id": "69",
   "metadata": {},
   "outputs": [],
   "source": [
    "from datetime import timedelta\n",
    "\n",
    "import pandas as pd\n",
    "import pytz\n",
    "\n",
    "\n",
    "pd.set_option(\"display.max_columns\", None)\n",
    "pd.set_option(\"display.max_rows\", None)"
   ]
  },
  {
   "cell_type": "code",
   "execution_count": 26,
   "id": "70",
   "metadata": {},
   "outputs": [],
   "source": [
    "# Settings\n",
    "dataset=\"GLBX.MDP3\"\n",
    "symbol=\"6E.v.0\"\n",
    "stype_in=\"continuous\"\n",
    "schema=\"ohlcv-1m\"\n",
    "start=\"2025-01-01\"\n",
    "end=\"2025-01-05\""
   ]
  },
  {
   "cell_type": "code",
   "execution_count": 27,
   "id": "71",
   "metadata": {},
   "outputs": [
    {
     "name": "stdout",
     "output_type": "stream",
     "text": [
      "0.01$\n"
     ]
    }
   ],
   "source": [
    "# Check costs in dollars\n",
    "cost = client.metadata.get_cost(\n",
    "    dataset=dataset,\n",
    "    symbols=[symbol],\n",
    "    stype_in=stype_in,\n",
    "    schema=schema,\n",
    "    start=start,\n",
    "    end=end,\n",
    ")\n",
    "\n",
    "print(f\"{cost:.2f}$\")"
   ]
  },
  {
   "cell_type": "code",
   "execution_count": 28,
   "id": "73",
   "metadata": {},
   "outputs": [],
   "source": [
    "# Download data\n",
    "data = client.timeseries.get_range(\n",
    "    dataset=dataset,\n",
    "    symbols=[symbol],\n",
    "    stype_in=stype_in,\n",
    "    schema=schema,\n",
    "    start=start,\n",
    "    end=end,\n",
    ")\n",
    "\n",
    "# Export data in DBNStore format (CSV data are 10x bigger)\n",
    "data.to_file(f\"{dataset}_{symbol}_{start}-{end}.{schema}.dbn.zst\")"
   ]
  },
  {
   "cell_type": "code",
   "execution_count": 29,
   "id": "74",
   "metadata": {},
   "outputs": [
    {
     "name": "stdout",
     "output_type": "stream",
     "text": [
      "2734\n"
     ]
    },
    {
     "data": {
      "text/html": [
       "<div>\n",
       "<style scoped>\n",
       "    .dataframe tbody tr th:only-of-type {\n",
       "        vertical-align: middle;\n",
       "    }\n",
       "\n",
       "    .dataframe tbody tr th {\n",
       "        vertical-align: top;\n",
       "    }\n",
       "\n",
       "    .dataframe thead th {\n",
       "        text-align: right;\n",
       "    }\n",
       "</style>\n",
       "<table border=\"1\" class=\"dataframe\">\n",
       "  <thead>\n",
       "    <tr style=\"text-align: right;\">\n",
       "      <th></th>\n",
       "      <th>symbol</th>\n",
       "      <th>datetime</th>\n",
       "      <th>open</th>\n",
       "      <th>high</th>\n",
       "      <th>low</th>\n",
       "      <th>close</th>\n",
       "      <th>volume</th>\n",
       "    </tr>\n",
       "  </thead>\n",
       "  <tbody>\n",
       "    <tr>\n",
       "      <th>0</th>\n",
       "      <td>6E.v.0</td>\n",
       "      <td>2025-01-02 00:01:00+01:00</td>\n",
       "      <td>1.0388</td>\n",
       "      <td>1.0392</td>\n",
       "      <td>1.03835</td>\n",
       "      <td>1.03895</td>\n",
       "      <td>290</td>\n",
       "    </tr>\n",
       "    <tr>\n",
       "      <th>1</th>\n",
       "      <td>6E.v.0</td>\n",
       "      <td>2025-01-02 00:02:00+01:00</td>\n",
       "      <td>1.0389</td>\n",
       "      <td>1.0389</td>\n",
       "      <td>1.03860</td>\n",
       "      <td>1.03870</td>\n",
       "      <td>311</td>\n",
       "    </tr>\n",
       "    <tr>\n",
       "      <th>2</th>\n",
       "      <td>6E.v.0</td>\n",
       "      <td>2025-01-02 00:03:00+01:00</td>\n",
       "      <td>1.0387</td>\n",
       "      <td>1.0388</td>\n",
       "      <td>1.03860</td>\n",
       "      <td>1.03875</td>\n",
       "      <td>139</td>\n",
       "    </tr>\n",
       "  </tbody>\n",
       "</table>\n",
       "</div>"
      ],
      "text/plain": [
       "   symbol                  datetime    open    high      low    close  volume\n",
       "0  6E.v.0 2025-01-02 00:01:00+01:00  1.0388  1.0392  1.03835  1.03895     290\n",
       "1  6E.v.0 2025-01-02 00:02:00+01:00  1.0389  1.0389  1.03860  1.03870     311\n",
       "2  6E.v.0 2025-01-02 00:03:00+01:00  1.0387  1.0388  1.03860  1.03875     139"
      ]
     },
     "execution_count": 29,
     "metadata": {},
     "output_type": "execute_result"
    }
   ],
   "source": [
    "# Cleanup and view data as DataFrame\n",
    "df = (\n",
    "    data.to_df()\n",
    "    .reset_index()\n",
    "    .rename(columns={\"ts_event\": \"datetime\"})\n",
    "    .drop(columns=[\"rtype\", \"publisher_id\", \"instrument_id\"])\n",
    "\n",
    "    # Nice order of columns\n",
    "    .reindex(columns=[\"symbol\", \"datetime\", \"open\", \"high\", \"low\", \"close\", \"volume\"])\n",
    "\n",
    "    # Localize datetime to Bratislava\n",
    "    .assign(datetime = lambda df: pd.to_datetime(df[\"datetime\"], utc=True))  # Mark as UTC datetime\n",
    "    .assign(datetime = lambda df: df[\"datetime\"].dt.tz_convert(pytz.timezone(\"Europe/Bratislava\")))  # Convert to Bratislava timezone\n",
    "\n",
    "    # Add 1-minute, so datetime represents closing time of the bar (not opening time)\n",
    "    .assign(datetime = lambda df: df[\"datetime\"] + timedelta(minutes=1))\n",
    ")\n",
    "\n",
    "# Preview\n",
    "print(len(df))\n",
    "df.head(3)"
   ]
  }
 ],
 "metadata": {
  "kernelspec": {
   "display_name": "Python 3 (ipykernel)",
   "language": "python",
   "name": "python3"
  },
  "language_info": {
   "codemirror_mode": {
    "name": "ipython",
    "version": 3
   },
   "file_extension": ".py",
   "mimetype": "text/x-python",
   "name": "python",
   "nbconvert_exporter": "python",
   "pygments_lexer": "ipython3",
   "version": "3.12.8"
  }
 },
 "nbformat": 4,
 "nbformat_minor": 5
}
